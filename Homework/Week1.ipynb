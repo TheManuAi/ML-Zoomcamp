{
 "cells": [
  {
   "cell_type": "markdown",
   "id": "a05147c9",
   "metadata": {},
   "source": [
    "# Homework for Week 1"
   ]
  },
  {
   "cell_type": "code",
   "execution_count": null,
   "id": "da7a27ea",
   "metadata": {},
   "outputs": [],
   "source": [
    "import pandas as pd\n",
    "import numpy as np"
   ]
  },
  {
   "cell_type": "code",
   "execution_count": null,
   "id": "f5061cdf",
   "metadata": {},
   "outputs": [],
   "source": [
    "# Q1 - Pandas Version check\n",
    "pd.__version__"
   ]
  },
  {
   "cell_type": "code",
   "execution_count": null,
   "id": "5ba8d8cb",
   "metadata": {},
   "outputs": [],
   "source": [
    "url = \"https://raw.githubusercontent.com/alexeygrigorev/datasets/master/car_fuel_efficiency.csv\"\n",
    "\n",
    "df = pd.read_csv(url)\n",
    "print(df.head())"
   ]
  },
  {
   "cell_type": "code",
   "execution_count": null,
   "id": "8a6f8ac3",
   "metadata": {},
   "outputs": [],
   "source": [
    "# Q2 Total Records in the dataset\n",
    "df.shape"
   ]
  },
  {
   "cell_type": "code",
   "execution_count": null,
   "id": "fb044b83",
   "metadata": {},
   "outputs": [],
   "source": [
    "# Q3 Fuel Types\n",
    "df.fuel_type.nunique()"
   ]
  },
  {
   "cell_type": "code",
   "execution_count": null,
   "id": "03ca0058",
   "metadata": {},
   "outputs": [],
   "source": [
    "# Q4 Missing values\n",
    "df.isnull().sum()"
   ]
  },
  {
   "cell_type": "code",
   "execution_count": null,
   "id": "49e240f7",
   "metadata": {},
   "outputs": [],
   "source": [
    "# Q5 maximum fuel efficiency of cars from Asia\n",
    "df.groupby(\"origin\").fuel_efficiency_mpg.max()"
   ]
  },
  {
   "cell_type": "code",
   "execution_count": null,
   "id": "0a0eba62",
   "metadata": {},
   "outputs": [],
   "source": [
    "# Q6 Median value of horsepower\n",
    "# step 1 finding the median of the horsepower\n",
    "df.horsepower.median()\n",
    "# 149"
   ]
  },
  {
   "cell_type": "code",
   "execution_count": null,
   "id": "33888544",
   "metadata": {},
   "outputs": [],
   "source": [
    "# step 2 finding the most frequent values in the horsepower\n",
    "df.horsepower.value_counts()\n",
    "# 152 -> 142 times \n",
    "# df.horsepower.mode() # can be done with this too"
   ]
  },
  {
   "cell_type": "code",
   "execution_count": null,
   "id": "6e013163",
   "metadata": {},
   "outputs": [],
   "source": [
    "# step 3 - filling all the missing values with the most frequent values, using fillna method\n",
    "df.horsepower.fillna(152).median()\n",
    "# df.horsepower.fillna(df.horsepower.mode()[0]).median()  - this is more of a dynamic way and should be done with this "
   ]
  },
  {
   "cell_type": "code",
   "execution_count": null,
   "id": "c78d644a",
   "metadata": {},
   "outputs": [],
   "source": [
    "# Q7 Sum of weights\n",
    "# step 1 - selecting all the cars from asia \n",
    "asia = df[\"origin\"] == \"Asia\"\n",
    "asia"
   ]
  },
  {
   "cell_type": "code",
   "execution_count": null,
   "id": "288ef2ca",
   "metadata": {},
   "outputs": [],
   "source": [
    "# step 2 - selecting only columns vehicle_weight and model_year\n",
    "v_m = df[asia][[\"vehicle_weight\", \"model_year\"]]\n",
    "v_m"
   ]
  },
  {
   "cell_type": "code",
   "execution_count": null,
   "id": "f4652478",
   "metadata": {},
   "outputs": [],
   "source": [
    "# step 3 - selecting only first 7 rows \n",
    "h = v_m.head(7)\n",
    "h"
   ]
  },
  {
   "cell_type": "code",
   "execution_count": null,
   "id": "791ecd5b",
   "metadata": {},
   "outputs": [],
   "source": [
    "# step 4 - get the underlying NumPy array\n",
    "X = h.values\n",
    "X"
   ]
  },
  {
   "cell_type": "code",
   "execution_count": null,
   "id": "bf8ce077",
   "metadata": {},
   "outputs": [],
   "source": [
    "# step 5 - computing matrix-matrix multiplication between the transpose of X and X\n",
    "\n",
    "XTX = X.T.dot(X)\n",
    "XTX"
   ]
  },
  {
   "cell_type": "code",
   "execution_count": null,
   "id": "42b95186",
   "metadata": {},
   "outputs": [],
   "source": [
    "# step 6 - inverting the XTX\n",
    "XTXi = np.linalg.inv(XTX)\n",
    "XTXi"
   ]
  },
  {
   "cell_type": "code",
   "execution_count": null,
   "id": "4c871f8a",
   "metadata": {},
   "outputs": [],
   "source": [
    "# step 7 - creating an array y\n",
    "y = np.array([1100, 1300, 800, 900, 1000, 1100, 1200])\n",
    "y"
   ]
  },
  {
   "cell_type": "code",
   "execution_count": 118,
   "id": "3c98e3f0",
   "metadata": {},
   "outputs": [
    {
     "data": {
      "text/plain": [
       "array([0.01386421, 0.5049067 ])"
      ]
     },
     "execution_count": 118,
     "metadata": {},
     "output_type": "execute_result"
    }
   ],
   "source": [
    "# step 8 - multiplying the inverse of XTX with the transpose of X and then multiplying it with y\n",
    "w = XTXi.dot(X.T).dot(y)\n",
    "w"
   ]
  },
  {
   "cell_type": "code",
   "execution_count": 119,
   "id": "15af8d2a",
   "metadata": {},
   "outputs": [
    {
     "data": {
      "text/plain": [
       "np.float64(0.5187709081074023)"
      ]
     },
     "execution_count": 119,
     "metadata": {},
     "output_type": "execute_result"
    }
   ],
   "source": [
    "# step 9 Sum of all the elements of the w\n",
    "w.sum()"
   ]
  },
  {
   "cell_type": "code",
   "execution_count": null,
   "id": "b29a6e9e",
   "metadata": {},
   "outputs": [],
   "source": []
  }
 ],
 "metadata": {
  "kernelspec": {
   "display_name": "ml-zoomcamp",
   "language": "python",
   "name": "python3"
  },
  "language_info": {
   "codemirror_mode": {
    "name": "ipython",
    "version": 3
   },
   "file_extension": ".py",
   "mimetype": "text/x-python",
   "name": "python",
   "nbconvert_exporter": "python",
   "pygments_lexer": "ipython3",
   "version": "3.13.7"
  }
 },
 "nbformat": 4,
 "nbformat_minor": 5
}
