{
 "cells": [
  {
   "cell_type": "markdown",
   "id": "844a9f69",
   "metadata": {},
   "source": [
    "## Basic LA"
   ]
  },
  {
   "cell_type": "code",
   "execution_count": null,
   "id": "9374df67",
   "metadata": {},
   "outputs": [],
   "source": [
    "# vector vector multiplication\n",
    "import numpy as np\n"
   ]
  },
  {
   "cell_type": "code",
   "execution_count": 12,
   "id": "8d136324",
   "metadata": {},
   "outputs": [
    {
     "name": "stdout",
     "output_type": "stream",
     "text": [
      "u: [1 2 3] \n",
      "v: [4 5 6]\n"
     ]
    }
   ],
   "source": [
    "u = np.arange(1, 4)\n",
    "v = np.arange(4, 7)\n",
    "print(f\"u: {u} \\nv: {v}\")"
   ]
  },
  {
   "cell_type": "code",
   "execution_count": 16,
   "id": "a9e9ca94",
   "metadata": {},
   "outputs": [
    {
     "data": {
      "text/plain": [
       "3"
      ]
     },
     "execution_count": 16,
     "metadata": {},
     "output_type": "execute_result"
    }
   ],
   "source": [
    "u.shape[0] # give the lengh or the array"
   ]
  },
  {
   "cell_type": "code",
   "execution_count": 20,
   "id": "8bfcf3c3",
   "metadata": {},
   "outputs": [
    {
     "data": {
      "text/plain": [
       "np.int64(32)"
      ]
     },
     "execution_count": 20,
     "metadata": {},
     "output_type": "execute_result"
    }
   ],
   "source": [
    "# dot product \n",
    "u.dot(v)\n"
   ]
  },
  {
   "cell_type": "code",
   "execution_count": null,
   "id": "d7c5e64f",
   "metadata": {},
   "outputs": [
    {
     "data": {
      "text/plain": [
       "array([[1, 2, 3],\n",
       "       [4, 5, 6],\n",
       "       [7, 8, 9]])"
      ]
     },
     "execution_count": 26,
     "metadata": {},
     "output_type": "execute_result"
    }
   ],
   "source": [
    "# Matrix - vector multiplication\n",
    "m = np.arange(1, 10).reshape((3,3)) \n",
    "# most common way to create a matrix is using np.array([],[],[]) but here what we do is \n",
    "# first we create an 1D array which is from 1 to 9 and then organise it into 3 by 3 (3 rows and 3 columns) \n",
    "m"
   ]
  },
  {
   "cell_type": "code",
   "execution_count": null,
   "id": "e29e4d2b",
   "metadata": {},
   "outputs": [],
   "source": [
    "# for matric - vector multiplication the no. of coloumns in the matirx and the number of element in the vector should be same \n",
    "# to understand better how it works ->\n",
    "def matrix_vector_multiplication(m, v):\n",
    "    # Assert that the number of columns in the matrix (m) equals the number of elements in the vector (v)\n",
    "    assert m.shape[1] == v.shape[0]\n",
    "\n",
    "    # The number of rows in the matrix determines the size of our final result vector.\n",
    "    n_rows = m.shape[0]\n",
    "\n",
    "    # Create an empty result vector of the correct size, filled with zeros.\n",
    "    result = np.zeros(n_rows)\n",
    "\n",
    "    # Loop through each row of the matrix.\n",
    "    for i in range(n_rows):\n",
    "        # Calculate the dot product of the i-th row of the matrix (m[i]) and the vector (v).\n",
    "        # Assign this value to the i-th element of our result vector.\n",
    "        result[i] = m[i].dot(v)\n",
    "\n",
    "    return result"
   ]
  },
  {
   "cell_type": "code",
   "execution_count": 34,
   "id": "00d8a611",
   "metadata": {},
   "outputs": [
    {
     "data": {
      "text/plain": [
       "array([ 32.,  77., 122.])"
      ]
     },
     "execution_count": 34,
     "metadata": {},
     "output_type": "execute_result"
    }
   ],
   "source": [
    "matrix_vector_multiplication(m,v)"
   ]
  },
  {
   "cell_type": "code",
   "execution_count": null,
   "id": "4fcda3a8",
   "metadata": {},
   "outputs": [
    {
     "data": {
      "text/plain": [
       "array([ 32,  77, 122])"
      ]
     },
     "execution_count": 35,
     "metadata": {},
     "output_type": "execute_result"
    }
   ],
   "source": [
    "m.dot(v) # but this is the standard way, the above one was just for knowing behind the seen maths \n",
    "# same goes for matrix - matrix multiplication, using .dot()"
   ]
  },
  {
   "cell_type": "code",
   "execution_count": 41,
   "id": "6aa60a9a",
   "metadata": {},
   "outputs": [
    {
     "data": {
      "text/plain": [
       "array([[ 78,  84,  90],\n",
       "       [186, 201, 216],\n",
       "       [294, 318, 342]])"
      ]
     },
     "execution_count": 41,
     "metadata": {},
     "output_type": "execute_result"
    }
   ],
   "source": [
    "m2 = np.arange(9,18).reshape(3,3)\n",
    "m.dot(m2)\n",
    "# the important point here is that the number of columns in the first matrix must be same as the number of rows in the second matrix "
   ]
  },
  {
   "cell_type": "code",
   "execution_count": 43,
   "id": "edc92e64",
   "metadata": {},
   "outputs": [
    {
     "data": {
      "text/plain": [
       "array([[1., 0., 0.],\n",
       "       [0., 1., 0.],\n",
       "       [0., 0., 1.]])"
      ]
     },
     "execution_count": 43,
     "metadata": {},
     "output_type": "execute_result"
    }
   ],
   "source": [
    "# Identity martix\n",
    "i = np.eye(3)\n",
    "i"
   ]
  },
  {
   "cell_type": "code",
   "execution_count": null,
   "id": "3f8c281f",
   "metadata": {},
   "outputs": [
    {
     "data": {
      "text/plain": [
       "array([[-2. ,  1. ],\n",
       "       [ 1.5, -0.5]])"
      ]
     },
     "execution_count": 46,
     "metadata": {},
     "output_type": "execute_result"
    }
   ],
   "source": [
    "# Inverse Matrix - only for square matrix\n",
    "v = np.arange(1,5).reshape((2,2))\n",
    "v_inv = np.linalg.inv(v)\n",
    "v_inv"
   ]
  },
  {
   "cell_type": "code",
   "execution_count": 52,
   "id": "ca81a488",
   "metadata": {},
   "outputs": [
    {
     "data": {
      "text/plain": [
       "array([[1.00000000e+00, 0.00000000e+00],\n",
       "       [2.22044605e-16, 1.00000000e+00]])"
      ]
     },
     "execution_count": 52,
     "metadata": {},
     "output_type": "execute_result"
    }
   ],
   "source": [
    "# product of matrix and it's inverse gives identity matrix\n",
    "v_inv.dot(v)\n",
    "\n",
    "# Note: Due to the nature of floating-point computer math, there might be sometimes very small numbers instead of a perfect zero, like 2.22e-16, which is effectively zero."
   ]
  },
  {
   "cell_type": "code",
   "execution_count": null,
   "id": "444304a8",
   "metadata": {},
   "outputs": [],
   "source": []
  }
 ],
 "metadata": {
  "kernelspec": {
   "display_name": "ml-zoomcamp",
   "language": "python",
   "name": "python3"
  },
  "language_info": {
   "codemirror_mode": {
    "name": "ipython",
    "version": 3
   },
   "file_extension": ".py",
   "mimetype": "text/x-python",
   "name": "python",
   "nbconvert_exporter": "python",
   "pygments_lexer": "ipython3",
   "version": "3.13.7"
  }
 },
 "nbformat": 4,
 "nbformat_minor": 5
}
