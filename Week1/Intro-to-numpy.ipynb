{
 "cells": [
  {
   "cell_type": "markdown",
   "id": "7a7527e3-409d-4eb2-bcb8-b7fcd412b4b2",
   "metadata": {},
   "source": [
    "# Introduction to NumPy"
   ]
  },
  {
   "cell_type": "code",
   "execution_count": 17,
   "id": "a2eb101d-fe4f-4edd-b79c-a091b8d89104",
   "metadata": {},
   "outputs": [],
   "source": [
    "import numpy as np"
   ]
  },
  {
   "cell_type": "code",
   "execution_count": 18,
   "id": "23de53b1-59e7-4a89-a01b-b9eb1cf77dbc",
   "metadata": {},
   "outputs": [
    {
     "data": {
      "text/plain": [
       "<module 'numpy' from '/home/manu/miniconda3/envs/ml-zoomcamp/lib/python3.13/site-packages/numpy/__init__.py'>"
      ]
     },
     "execution_count": 18,
     "metadata": {},
     "output_type": "execute_result"
    }
   ],
   "source": [
    "np"
   ]
  },
  {
   "cell_type": "code",
   "execution_count": 19,
   "id": "6c01a375-2140-427d-ae87-13ee409b009f",
   "metadata": {},
   "outputs": [
    {
     "data": {
      "text/plain": [
       "array([0., 0., 0., 0., 0.])"
      ]
     },
     "execution_count": 19,
     "metadata": {},
     "output_type": "execute_result"
    }
   ],
   "source": [
    "np.zeros(5) # Creating an array of all the zeros of length 5"
   ]
  },
  {
   "cell_type": "code",
   "execution_count": 20,
   "id": "6b798cd7-09bb-4fed-bd32-7e3752e88cb6",
   "metadata": {},
   "outputs": [
    {
     "data": {
      "text/plain": [
       "array([1., 1., 1., 1., 1.])"
      ]
     },
     "execution_count": 20,
     "metadata": {},
     "output_type": "execute_result"
    }
   ],
   "source": [
    "np.ones(5)"
   ]
  },
  {
   "cell_type": "code",
   "execution_count": 21,
   "id": "8899d030-b1cd-4c25-87dc-848ad9081f20",
   "metadata": {},
   "outputs": [
    {
     "data": {
      "text/plain": [
       "array([7.3, 7.3, 7.3, 7.3, 7.3, 7.3, 7.3, 7.3, 7.3, 7.3])"
      ]
     },
     "execution_count": 21,
     "metadata": {},
     "output_type": "execute_result"
    }
   ],
   "source": [
    "np.full(10, 7.3) # Creates array of length 10 with element 7.3"
   ]
  },
  {
   "cell_type": "code",
   "execution_count": 22,
   "id": "027c1a0e-bdcf-4fdd-b334-b0f1cbd38a0a",
   "metadata": {},
   "outputs": [
    {
     "data": {
      "text/plain": [
       "array([1, 2, 3, 4, 5, 6])"
      ]
     },
     "execution_count": 22,
     "metadata": {},
     "output_type": "execute_result"
    }
   ],
   "source": [
    "arr = np.array([1, 2, 3, 4, 5, 6])\n",
    "arr"
   ]
  },
  {
   "cell_type": "code",
   "execution_count": 23,
   "id": "07d563b3-d591-4bb5-848e-09da85e3e57c",
   "metadata": {},
   "outputs": [
    {
     "name": "stdout",
     "output_type": "stream",
     "text": [
      "5\n"
     ]
    },
    {
     "data": {
      "text/plain": [
       "array([ 1,  2,  3,  4,  5, 10])"
      ]
     },
     "execution_count": 23,
     "metadata": {},
     "output_type": "execute_result"
    }
   ],
   "source": [
    "print(arr[4])\n",
    "arr[-1] = 10\n",
    "arr"
   ]
  },
  {
   "cell_type": "code",
   "execution_count": 24,
   "id": "ffe845a8-280e-419c-85f8-ece956dbd6a1",
   "metadata": {},
   "outputs": [
    {
     "data": {
      "text/plain": [
       "array([3, 4, 5, 6, 7, 8, 9])"
      ]
     },
     "execution_count": 24,
     "metadata": {},
     "output_type": "execute_result"
    }
   ],
   "source": [
    "np.arange(3, 10) # Creates sequence of number from (start, last) and exclusive of last "
   ]
  },
  {
   "cell_type": "code",
   "execution_count": 25,
   "id": "bbe33e24-8793-41e6-849b-d1f505c2d1b8",
   "metadata": {
    "scrolled": true
   },
   "outputs": [
    {
     "data": {
      "text/plain": [
       "array([0.  , 0.25, 0.5 , 0.75, 1.  ])"
      ]
     },
     "execution_count": 25,
     "metadata": {},
     "output_type": "execute_result"
    }
   ],
   "source": [
    "np.linspace(0, 1, 5)\n",
    "# Creates an array of (start, last, parts) where parts is the pieces between the start and last  "
   ]
  },
  {
   "cell_type": "markdown",
   "id": "1590036b",
   "metadata": {},
   "source": [
    "## Mutli-dementional arrays\n"
   ]
  },
  {
   "cell_type": "code",
   "execution_count": 26,
   "id": "ab9a2bf8",
   "metadata": {},
   "outputs": [
    {
     "data": {
      "text/plain": [
       "array([[0., 0.],\n",
       "       [0., 0.],\n",
       "       [0., 0.],\n",
       "       [0., 0.],\n",
       "       [0., 0.]])"
      ]
     },
     "execution_count": 26,
     "metadata": {},
     "output_type": "execute_result"
    }
   ],
   "source": [
    "np.zeros((5,2)) \n",
    "#Create an array with 5 rows and 2 columns "
   ]
  },
  {
   "cell_type": "code",
   "execution_count": 27,
   "id": "c3eb7282",
   "metadata": {},
   "outputs": [
    {
     "data": {
      "text/plain": [
       "array([[1, 2, 3],\n",
       "       [3, 2, 1],\n",
       "       [1, 2, 3]])"
      ]
     },
     "execution_count": 27,
     "metadata": {},
     "output_type": "execute_result"
    }
   ],
   "source": [
    "n = np.array([\n",
    "    [1, 2, 3],\n",
    "    [3, 2, 1],\n",
    "    [1, 2, 3],\n",
    "\n",
    "])\n",
    "\n",
    "n"
   ]
  },
  {
   "cell_type": "code",
   "execution_count": 28,
   "id": "3dcc9e35",
   "metadata": {},
   "outputs": [
    {
     "data": {
      "text/plain": [
       "array([3, 2, 1])"
      ]
     },
     "execution_count": 28,
     "metadata": {},
     "output_type": "execute_result"
    }
   ],
   "source": [
    "n[1]"
   ]
  },
  {
   "cell_type": "code",
   "execution_count": 29,
   "id": "5a973c6e",
   "metadata": {},
   "outputs": [
    {
     "data": {
      "text/plain": [
       "np.int64(1)"
      ]
     },
     "execution_count": 29,
     "metadata": {},
     "output_type": "execute_result"
    }
   ],
   "source": [
    "n[1][-1]"
   ]
  },
  {
   "cell_type": "code",
   "execution_count": 30,
   "id": "4cb18e1a",
   "metadata": {},
   "outputs": [
    {
     "data": {
      "text/plain": [
       "np.int64(1)"
      ]
     },
     "execution_count": 30,
     "metadata": {},
     "output_type": "execute_result"
    }
   ],
   "source": [
    "n[1, -1]"
   ]
  },
  {
   "cell_type": "code",
   "execution_count": 31,
   "id": "639fa340",
   "metadata": {},
   "outputs": [
    {
     "data": {
      "text/plain": [
       "array([2, 2, 2])"
      ]
     },
     "execution_count": 31,
     "metadata": {},
     "output_type": "execute_result"
    }
   ],
   "source": [
    "n[:,1] \n",
    "# this gives the whole column at position 1 (which in this case is the middle one )"
   ]
  },
  {
   "cell_type": "code",
   "execution_count": null,
   "id": "bf1adb3f",
   "metadata": {},
   "outputs": [
    {
     "data": {
      "text/plain": [
       "array([2])"
      ]
     },
     "execution_count": 33,
     "metadata": {},
     "output_type": "execute_result"
    }
   ],
   "source": [
    "n[0:1,1]\n",
    "#This command selects the element in the first row and second column.\n"
   ]
  },
  {
   "cell_type": "markdown",
   "id": "fe7bdc78",
   "metadata": {},
   "source": [
    "## Randomly generated Array\n"
   ]
  },
  {
   "cell_type": "code",
   "execution_count": 41,
   "id": "5ce8a7f4",
   "metadata": {},
   "outputs": [
    {
     "data": {
      "text/plain": [
       "array([[0.82336812, 0.40895015, 0.3530639 , 0.79683207, 0.91665191],\n",
       "       [0.02992067, 0.54678426, 0.47546766, 0.51108681, 0.46302745],\n",
       "       [0.31578978, 0.77000656, 0.30092313, 0.80024384, 0.21929343],\n",
       "       [0.25382912, 0.57815555, 0.10137939, 0.82917278, 0.72846704],\n",
       "       [0.1294495 , 0.56807595, 0.3121978 , 0.95433741, 0.92938692]])"
      ]
     },
     "execution_count": 41,
     "metadata": {},
     "output_type": "execute_result"
    }
   ],
   "source": [
    "np.random.rand(5,5)\n",
    "# generating a random array of 5 rows and 5 columns "
   ]
  },
  {
   "cell_type": "code",
   "execution_count": 44,
   "id": "2540e747",
   "metadata": {},
   "outputs": [
    {
     "data": {
      "text/plain": [
       "array([[0.4359949 , 0.02592623, 0.54966248],\n",
       "       [0.43532239, 0.4203678 , 0.33033482],\n",
       "       [0.20464863, 0.61927097, 0.29965467]])"
      ]
     },
     "execution_count": 44,
     "metadata": {},
     "output_type": "execute_result"
    }
   ],
   "source": [
    "# to get the fixed random numbers, we can fix the seed\n",
    "np.random.seed(2)\n",
    "np.random.rand(3,3)"
   ]
  },
  {
   "cell_type": "code",
   "execution_count": null,
   "id": "bd22d60d",
   "metadata": {},
   "outputs": [
    {
     "data": {
      "text/plain": [
       "array([[-0.45571477, -2.12452767,  0.54979824],\n",
       "       [-1.16790025,  1.08006357, -3.4918143 ],\n",
       "       [ 1.27004848, -0.48921489, -1.17598956]])"
      ]
     },
     "execution_count": 47,
     "metadata": {},
     "output_type": "execute_result"
    }
   ],
   "source": [
    "np.random.randn(3,3)\n",
    "# this function gives an array of random numbers sampled from the standard normal (or Gaussian) distribution. This means the numbers will be centered around a mean of 0 with a standard deviation of 1. In simpler terms, you'll get a mix of positive and negative numbers, with most of them clustered close to zero."
   ]
  },
  {
   "cell_type": "code",
   "execution_count": 63,
   "id": "328293b3",
   "metadata": {},
   "outputs": [
    {
     "data": {
      "text/plain": [
       "array([[4, 9, 8],\n",
       "       [5, 6, 7]])"
      ]
     },
     "execution_count": 63,
     "metadata": {},
     "output_type": "execute_result"
    }
   ],
   "source": [
    "np.random.randint(2,10,(2,3))\n",
    "# This will give array of 2 rows and 3 columns with a random integers from 2 and 10 but 10 is excluded "
   ]
  },
  {
   "cell_type": "markdown",
   "id": "1913422c",
   "metadata": {},
   "source": [
    "## Element wise operation"
   ]
  },
  {
   "cell_type": "code",
   "execution_count": 84,
   "id": "ab57cc68",
   "metadata": {},
   "outputs": [
    {
     "data": {
      "text/plain": [
       "array([1, 2, 3])"
      ]
     },
     "execution_count": 84,
     "metadata": {},
     "output_type": "execute_result"
    }
   ],
   "source": [
    "a = np.arange(1, 4)\n",
    "a "
   ]
  },
  {
   "cell_type": "code",
   "execution_count": 85,
   "id": "6460cabf",
   "metadata": {},
   "outputs": [
    {
     "data": {
      "text/plain": [
       "array([2, 3, 4])"
      ]
     },
     "execution_count": 85,
     "metadata": {},
     "output_type": "execute_result"
    }
   ],
   "source": [
    "a + 1 # we can directly treat the array like a varible to do operation"
   ]
  },
  {
   "cell_type": "code",
   "execution_count": 87,
   "id": "e24458ba",
   "metadata": {},
   "outputs": [
    {
     "data": {
      "text/plain": [
       "array([ 5, 10, 15])"
      ]
     },
     "execution_count": 87,
     "metadata": {},
     "output_type": "execute_result"
    }
   ],
   "source": [
    "a *= 5\n",
    "a"
   ]
  },
  {
   "cell_type": "code",
   "execution_count": 89,
   "id": "7a85372d",
   "metadata": {},
   "outputs": [
    {
     "data": {
      "text/plain": [
       "array([False,  True,  True])"
      ]
     },
     "execution_count": 89,
     "metadata": {},
     "output_type": "execute_result"
    }
   ],
   "source": [
    "# to check for each element \n",
    "a > 7"
   ]
  },
  {
   "cell_type": "code",
   "execution_count": 92,
   "id": "c5c708a2",
   "metadata": {},
   "outputs": [
    {
     "data": {
      "text/plain": [
       "np.float64(4.08248290463863)"
      ]
     },
     "execution_count": 92,
     "metadata": {},
     "output_type": "execute_result"
    }
   ],
   "source": [
    "# we can also do things like sum, min, max and even standard deviation with std\n",
    "a.std()"
   ]
  },
  {
   "cell_type": "code",
   "execution_count": null,
   "id": "5d797737",
   "metadata": {},
   "outputs": [],
   "source": []
  }
 ],
 "metadata": {
  "kernelspec": {
   "display_name": "ml-zoomcamp",
   "language": "python",
   "name": "python3"
  },
  "language_info": {
   "codemirror_mode": {
    "name": "ipython",
    "version": 3
   },
   "file_extension": ".py",
   "mimetype": "text/x-python",
   "name": "python",
   "nbconvert_exporter": "python",
   "pygments_lexer": "ipython3",
   "version": "3.13.7"
  }
 },
 "nbformat": 4,
 "nbformat_minor": 5
}
