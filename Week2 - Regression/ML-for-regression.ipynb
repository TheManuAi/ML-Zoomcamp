{
 "cells": [
  {
   "cell_type": "markdown",
   "id": "25a049df",
   "metadata": {},
   "source": [
    "# Machine learning for Regression"
   ]
  },
  {
   "cell_type": "code",
   "execution_count": 2,
   "id": "10db2db1",
   "metadata": {},
   "outputs": [],
   "source": [
    "import pandas as pd\n",
    "import numpy as np"
   ]
  },
  {
   "cell_type": "markdown",
   "id": "61b1ae70",
   "metadata": {},
   "source": [
    "## 1. Data preparation"
   ]
  },
  {
   "cell_type": "code",
   "execution_count": 3,
   "id": "c4b524e5",
   "metadata": {},
   "outputs": [],
   "source": [
    "n = \"https://raw.githubusercontent.com/alexeygrigorev/mlbookcamp-code/refs/heads/master/chapter-02-car-price/data.csv\""
   ]
  },
  {
   "cell_type": "code",
   "execution_count": 4,
   "id": "40e917a7",
   "metadata": {},
   "outputs": [
    {
     "name": "stdout",
     "output_type": "stream",
     "text": [
      "--2025-10-07 20:01:57--  https://raw.githubusercontent.com/alexeygrigorev/mlbookcamp-code/refs/heads/master/chapter-02-car-price/data.csv\n",
      "Resolving raw.githubusercontent.com (raw.githubusercontent.com)... 185.199.110.133, 185.199.108.133, 185.199.111.133, ...\n",
      "Connecting to raw.githubusercontent.com (raw.githubusercontent.com)|185.199.110.133|:443... connected.\n",
      "HTTP request sent, awaiting response... 200 OK\n",
      "Length: 1475504 (1.4M) [text/plain]\n",
      "Saving to: ‘data.csv.1’\n",
      "\n",
      "data.csv.1          100%[===================>]   1.41M   954KB/s    in 1.5s    \n",
      "\n",
      "2025-10-07 20:01:59 (954 KB/s) - ‘data.csv.1’ saved [1475504/1475504]\n",
      "\n"
     ]
    }
   ],
   "source": [
    "!wget $n # for downloading the n via wget "
   ]
  },
  {
   "cell_type": "code",
   "execution_count": 5,
   "id": "6175828e",
   "metadata": {},
   "outputs": [
    {
     "data": {
      "text/html": [
       "<div>\n",
       "<style scoped>\n",
       "    .dataframe tbody tr th:only-of-type {\n",
       "        vertical-align: middle;\n",
       "    }\n",
       "\n",
       "    .dataframe tbody tr th {\n",
       "        vertical-align: top;\n",
       "    }\n",
       "\n",
       "    .dataframe thead th {\n",
       "        text-align: right;\n",
       "    }\n",
       "</style>\n",
       "<table border=\"1\" class=\"dataframe\">\n",
       "  <thead>\n",
       "    <tr style=\"text-align: right;\">\n",
       "      <th></th>\n",
       "      <th>Make</th>\n",
       "      <th>Model</th>\n",
       "      <th>Year</th>\n",
       "      <th>Engine Fuel Type</th>\n",
       "      <th>Engine HP</th>\n",
       "      <th>Engine Cylinders</th>\n",
       "      <th>Transmission Type</th>\n",
       "      <th>Driven_Wheels</th>\n",
       "      <th>Number of Doors</th>\n",
       "      <th>Market Category</th>\n",
       "      <th>Vehicle Size</th>\n",
       "      <th>Vehicle Style</th>\n",
       "      <th>highway MPG</th>\n",
       "      <th>city mpg</th>\n",
       "      <th>Popularity</th>\n",
       "      <th>MSRP</th>\n",
       "    </tr>\n",
       "  </thead>\n",
       "  <tbody>\n",
       "    <tr>\n",
       "      <th>0</th>\n",
       "      <td>BMW</td>\n",
       "      <td>1 Series M</td>\n",
       "      <td>2011</td>\n",
       "      <td>premium unleaded (required)</td>\n",
       "      <td>335.0</td>\n",
       "      <td>6.0</td>\n",
       "      <td>MANUAL</td>\n",
       "      <td>rear wheel drive</td>\n",
       "      <td>2.0</td>\n",
       "      <td>Factory Tuner,Luxury,High-Performance</td>\n",
       "      <td>Compact</td>\n",
       "      <td>Coupe</td>\n",
       "      <td>26</td>\n",
       "      <td>19</td>\n",
       "      <td>3916</td>\n",
       "      <td>46135</td>\n",
       "    </tr>\n",
       "    <tr>\n",
       "      <th>1</th>\n",
       "      <td>BMW</td>\n",
       "      <td>1 Series</td>\n",
       "      <td>2011</td>\n",
       "      <td>premium unleaded (required)</td>\n",
       "      <td>300.0</td>\n",
       "      <td>6.0</td>\n",
       "      <td>MANUAL</td>\n",
       "      <td>rear wheel drive</td>\n",
       "      <td>2.0</td>\n",
       "      <td>Luxury,Performance</td>\n",
       "      <td>Compact</td>\n",
       "      <td>Convertible</td>\n",
       "      <td>28</td>\n",
       "      <td>19</td>\n",
       "      <td>3916</td>\n",
       "      <td>40650</td>\n",
       "    </tr>\n",
       "    <tr>\n",
       "      <th>2</th>\n",
       "      <td>BMW</td>\n",
       "      <td>1 Series</td>\n",
       "      <td>2011</td>\n",
       "      <td>premium unleaded (required)</td>\n",
       "      <td>300.0</td>\n",
       "      <td>6.0</td>\n",
       "      <td>MANUAL</td>\n",
       "      <td>rear wheel drive</td>\n",
       "      <td>2.0</td>\n",
       "      <td>Luxury,High-Performance</td>\n",
       "      <td>Compact</td>\n",
       "      <td>Coupe</td>\n",
       "      <td>28</td>\n",
       "      <td>20</td>\n",
       "      <td>3916</td>\n",
       "      <td>36350</td>\n",
       "    </tr>\n",
       "    <tr>\n",
       "      <th>3</th>\n",
       "      <td>BMW</td>\n",
       "      <td>1 Series</td>\n",
       "      <td>2011</td>\n",
       "      <td>premium unleaded (required)</td>\n",
       "      <td>230.0</td>\n",
       "      <td>6.0</td>\n",
       "      <td>MANUAL</td>\n",
       "      <td>rear wheel drive</td>\n",
       "      <td>2.0</td>\n",
       "      <td>Luxury,Performance</td>\n",
       "      <td>Compact</td>\n",
       "      <td>Coupe</td>\n",
       "      <td>28</td>\n",
       "      <td>18</td>\n",
       "      <td>3916</td>\n",
       "      <td>29450</td>\n",
       "    </tr>\n",
       "    <tr>\n",
       "      <th>4</th>\n",
       "      <td>BMW</td>\n",
       "      <td>1 Series</td>\n",
       "      <td>2011</td>\n",
       "      <td>premium unleaded (required)</td>\n",
       "      <td>230.0</td>\n",
       "      <td>6.0</td>\n",
       "      <td>MANUAL</td>\n",
       "      <td>rear wheel drive</td>\n",
       "      <td>2.0</td>\n",
       "      <td>Luxury</td>\n",
       "      <td>Compact</td>\n",
       "      <td>Convertible</td>\n",
       "      <td>28</td>\n",
       "      <td>18</td>\n",
       "      <td>3916</td>\n",
       "      <td>34500</td>\n",
       "    </tr>\n",
       "  </tbody>\n",
       "</table>\n",
       "</div>"
      ],
      "text/plain": [
       "  Make       Model  Year             Engine Fuel Type  Engine HP  \\\n",
       "0  BMW  1 Series M  2011  premium unleaded (required)      335.0   \n",
       "1  BMW    1 Series  2011  premium unleaded (required)      300.0   \n",
       "2  BMW    1 Series  2011  premium unleaded (required)      300.0   \n",
       "3  BMW    1 Series  2011  premium unleaded (required)      230.0   \n",
       "4  BMW    1 Series  2011  premium unleaded (required)      230.0   \n",
       "\n",
       "   Engine Cylinders Transmission Type     Driven_Wheels  Number of Doors  \\\n",
       "0               6.0            MANUAL  rear wheel drive              2.0   \n",
       "1               6.0            MANUAL  rear wheel drive              2.0   \n",
       "2               6.0            MANUAL  rear wheel drive              2.0   \n",
       "3               6.0            MANUAL  rear wheel drive              2.0   \n",
       "4               6.0            MANUAL  rear wheel drive              2.0   \n",
       "\n",
       "                         Market Category Vehicle Size Vehicle Style  \\\n",
       "0  Factory Tuner,Luxury,High-Performance      Compact         Coupe   \n",
       "1                     Luxury,Performance      Compact   Convertible   \n",
       "2                Luxury,High-Performance      Compact         Coupe   \n",
       "3                     Luxury,Performance      Compact         Coupe   \n",
       "4                                 Luxury      Compact   Convertible   \n",
       "\n",
       "   highway MPG  city mpg  Popularity   MSRP  \n",
       "0           26        19        3916  46135  \n",
       "1           28        19        3916  40650  \n",
       "2           28        20        3916  36350  \n",
       "3           28        18        3916  29450  \n",
       "4           28        18        3916  34500  "
      ]
     },
     "execution_count": 5,
     "metadata": {},
     "output_type": "execute_result"
    }
   ],
   "source": [
    "df = pd.read_csv(\"data.csv\")\n",
    "df.head()"
   ]
  },
  {
   "cell_type": "code",
   "execution_count": 6,
   "id": "1a45a9f0",
   "metadata": {},
   "outputs": [
    {
     "data": {
      "text/html": [
       "<div>\n",
       "<style scoped>\n",
       "    .dataframe tbody tr th:only-of-type {\n",
       "        vertical-align: middle;\n",
       "    }\n",
       "\n",
       "    .dataframe tbody tr th {\n",
       "        vertical-align: top;\n",
       "    }\n",
       "\n",
       "    .dataframe thead th {\n",
       "        text-align: right;\n",
       "    }\n",
       "</style>\n",
       "<table border=\"1\" class=\"dataframe\">\n",
       "  <thead>\n",
       "    <tr style=\"text-align: right;\">\n",
       "      <th></th>\n",
       "      <th>make</th>\n",
       "      <th>model</th>\n",
       "      <th>year</th>\n",
       "      <th>engine_fuel_type</th>\n",
       "      <th>engine_hp</th>\n",
       "      <th>engine_cylinders</th>\n",
       "      <th>transmission_type</th>\n",
       "      <th>driven_wheels</th>\n",
       "      <th>number_of_doors</th>\n",
       "      <th>market_category</th>\n",
       "      <th>vehicle_size</th>\n",
       "      <th>vehicle_style</th>\n",
       "      <th>highway_mpg</th>\n",
       "      <th>city_mpg</th>\n",
       "      <th>popularity</th>\n",
       "      <th>msrp</th>\n",
       "    </tr>\n",
       "  </thead>\n",
       "  <tbody>\n",
       "    <tr>\n",
       "      <th>0</th>\n",
       "      <td>BMW</td>\n",
       "      <td>1 Series M</td>\n",
       "      <td>2011</td>\n",
       "      <td>premium unleaded (required)</td>\n",
       "      <td>335.0</td>\n",
       "      <td>6.0</td>\n",
       "      <td>MANUAL</td>\n",
       "      <td>rear wheel drive</td>\n",
       "      <td>2.0</td>\n",
       "      <td>Factory Tuner,Luxury,High-Performance</td>\n",
       "      <td>Compact</td>\n",
       "      <td>Coupe</td>\n",
       "      <td>26</td>\n",
       "      <td>19</td>\n",
       "      <td>3916</td>\n",
       "      <td>46135</td>\n",
       "    </tr>\n",
       "    <tr>\n",
       "      <th>1</th>\n",
       "      <td>BMW</td>\n",
       "      <td>1 Series</td>\n",
       "      <td>2011</td>\n",
       "      <td>premium unleaded (required)</td>\n",
       "      <td>300.0</td>\n",
       "      <td>6.0</td>\n",
       "      <td>MANUAL</td>\n",
       "      <td>rear wheel drive</td>\n",
       "      <td>2.0</td>\n",
       "      <td>Luxury,Performance</td>\n",
       "      <td>Compact</td>\n",
       "      <td>Convertible</td>\n",
       "      <td>28</td>\n",
       "      <td>19</td>\n",
       "      <td>3916</td>\n",
       "      <td>40650</td>\n",
       "    </tr>\n",
       "    <tr>\n",
       "      <th>2</th>\n",
       "      <td>BMW</td>\n",
       "      <td>1 Series</td>\n",
       "      <td>2011</td>\n",
       "      <td>premium unleaded (required)</td>\n",
       "      <td>300.0</td>\n",
       "      <td>6.0</td>\n",
       "      <td>MANUAL</td>\n",
       "      <td>rear wheel drive</td>\n",
       "      <td>2.0</td>\n",
       "      <td>Luxury,High-Performance</td>\n",
       "      <td>Compact</td>\n",
       "      <td>Coupe</td>\n",
       "      <td>28</td>\n",
       "      <td>20</td>\n",
       "      <td>3916</td>\n",
       "      <td>36350</td>\n",
       "    </tr>\n",
       "    <tr>\n",
       "      <th>3</th>\n",
       "      <td>BMW</td>\n",
       "      <td>1 Series</td>\n",
       "      <td>2011</td>\n",
       "      <td>premium unleaded (required)</td>\n",
       "      <td>230.0</td>\n",
       "      <td>6.0</td>\n",
       "      <td>MANUAL</td>\n",
       "      <td>rear wheel drive</td>\n",
       "      <td>2.0</td>\n",
       "      <td>Luxury,Performance</td>\n",
       "      <td>Compact</td>\n",
       "      <td>Coupe</td>\n",
       "      <td>28</td>\n",
       "      <td>18</td>\n",
       "      <td>3916</td>\n",
       "      <td>29450</td>\n",
       "    </tr>\n",
       "    <tr>\n",
       "      <th>4</th>\n",
       "      <td>BMW</td>\n",
       "      <td>1 Series</td>\n",
       "      <td>2011</td>\n",
       "      <td>premium unleaded (required)</td>\n",
       "      <td>230.0</td>\n",
       "      <td>6.0</td>\n",
       "      <td>MANUAL</td>\n",
       "      <td>rear wheel drive</td>\n",
       "      <td>2.0</td>\n",
       "      <td>Luxury</td>\n",
       "      <td>Compact</td>\n",
       "      <td>Convertible</td>\n",
       "      <td>28</td>\n",
       "      <td>18</td>\n",
       "      <td>3916</td>\n",
       "      <td>34500</td>\n",
       "    </tr>\n",
       "  </tbody>\n",
       "</table>\n",
       "</div>"
      ],
      "text/plain": [
       "  make       model  year             engine_fuel_type  engine_hp  \\\n",
       "0  BMW  1 Series M  2011  premium unleaded (required)      335.0   \n",
       "1  BMW    1 Series  2011  premium unleaded (required)      300.0   \n",
       "2  BMW    1 Series  2011  premium unleaded (required)      300.0   \n",
       "3  BMW    1 Series  2011  premium unleaded (required)      230.0   \n",
       "4  BMW    1 Series  2011  premium unleaded (required)      230.0   \n",
       "\n",
       "   engine_cylinders transmission_type     driven_wheels  number_of_doors  \\\n",
       "0               6.0            MANUAL  rear wheel drive              2.0   \n",
       "1               6.0            MANUAL  rear wheel drive              2.0   \n",
       "2               6.0            MANUAL  rear wheel drive              2.0   \n",
       "3               6.0            MANUAL  rear wheel drive              2.0   \n",
       "4               6.0            MANUAL  rear wheel drive              2.0   \n",
       "\n",
       "                         market_category vehicle_size vehicle_style  \\\n",
       "0  Factory Tuner,Luxury,High-Performance      Compact         Coupe   \n",
       "1                     Luxury,Performance      Compact   Convertible   \n",
       "2                Luxury,High-Performance      Compact         Coupe   \n",
       "3                     Luxury,Performance      Compact         Coupe   \n",
       "4                                 Luxury      Compact   Convertible   \n",
       "\n",
       "   highway_mpg  city_mpg  popularity   msrp  \n",
       "0           26        19        3916  46135  \n",
       "1           28        19        3916  40650  \n",
       "2           28        20        3916  36350  \n",
       "3           28        18        3916  29450  \n",
       "4           28        18        3916  34500  "
      ]
     },
     "execution_count": 6,
     "metadata": {},
     "output_type": "execute_result"
    }
   ],
   "source": [
    "df.columns = df.columns.str.lower().str.replace(\" \", \"_\")\n",
    "# Normalizing the headings of the n to all lowercase and replacing the spaces with _\n",
    "df.head()"
   ]
  },
  {
   "cell_type": "code",
   "execution_count": 7,
   "id": "7a15bb5e",
   "metadata": {},
   "outputs": [
    {
     "data": {
      "text/plain": [
       "['make',\n",
       " 'model',\n",
       " 'engine_fuel_type',\n",
       " 'transmission_type',\n",
       " 'driven_wheels',\n",
       " 'market_category',\n",
       " 'vehicle_size',\n",
       " 'vehicle_style']"
      ]
     },
     "execution_count": 7,
     "metadata": {},
     "output_type": "execute_result"
    }
   ],
   "source": [
    "# Now we will do the same for all the n strings values (they are called object)\n",
    "strings = list(df.dtypes[df.dtypes == \"object\"].index)\n",
    "# This will give all the indexes which have object values, whom n we will normalize\n",
    "strings"
   ]
  },
  {
   "cell_type": "code",
   "execution_count": 8,
   "id": "4fa778fc",
   "metadata": {},
   "outputs": [
    {
     "data": {
      "text/html": [
       "<div>\n",
       "<style scoped>\n",
       "    .dataframe tbody tr th:only-of-type {\n",
       "        vertical-align: middle;\n",
       "    }\n",
       "\n",
       "    .dataframe tbody tr th {\n",
       "        vertical-align: top;\n",
       "    }\n",
       "\n",
       "    .dataframe thead th {\n",
       "        text-align: right;\n",
       "    }\n",
       "</style>\n",
       "<table border=\"1\" class=\"dataframe\">\n",
       "  <thead>\n",
       "    <tr style=\"text-align: right;\">\n",
       "      <th></th>\n",
       "      <th>make</th>\n",
       "      <th>model</th>\n",
       "      <th>year</th>\n",
       "      <th>engine_fuel_type</th>\n",
       "      <th>engine_hp</th>\n",
       "      <th>engine_cylinders</th>\n",
       "      <th>transmission_type</th>\n",
       "      <th>driven_wheels</th>\n",
       "      <th>number_of_doors</th>\n",
       "      <th>market_category</th>\n",
       "      <th>vehicle_size</th>\n",
       "      <th>vehicle_style</th>\n",
       "      <th>highway_mpg</th>\n",
       "      <th>city_mpg</th>\n",
       "      <th>popularity</th>\n",
       "      <th>msrp</th>\n",
       "    </tr>\n",
       "  </thead>\n",
       "  <tbody>\n",
       "    <tr>\n",
       "      <th>0</th>\n",
       "      <td>bmw</td>\n",
       "      <td>1_series_m</td>\n",
       "      <td>2011</td>\n",
       "      <td>premium_unleaded_(required)</td>\n",
       "      <td>335.0</td>\n",
       "      <td>6.0</td>\n",
       "      <td>manual</td>\n",
       "      <td>rear_wheel_drive</td>\n",
       "      <td>2.0</td>\n",
       "      <td>factory_tuner,luxury,high-performance</td>\n",
       "      <td>compact</td>\n",
       "      <td>coupe</td>\n",
       "      <td>26</td>\n",
       "      <td>19</td>\n",
       "      <td>3916</td>\n",
       "      <td>46135</td>\n",
       "    </tr>\n",
       "    <tr>\n",
       "      <th>1</th>\n",
       "      <td>bmw</td>\n",
       "      <td>1_series</td>\n",
       "      <td>2011</td>\n",
       "      <td>premium_unleaded_(required)</td>\n",
       "      <td>300.0</td>\n",
       "      <td>6.0</td>\n",
       "      <td>manual</td>\n",
       "      <td>rear_wheel_drive</td>\n",
       "      <td>2.0</td>\n",
       "      <td>luxury,performance</td>\n",
       "      <td>compact</td>\n",
       "      <td>convertible</td>\n",
       "      <td>28</td>\n",
       "      <td>19</td>\n",
       "      <td>3916</td>\n",
       "      <td>40650</td>\n",
       "    </tr>\n",
       "    <tr>\n",
       "      <th>2</th>\n",
       "      <td>bmw</td>\n",
       "      <td>1_series</td>\n",
       "      <td>2011</td>\n",
       "      <td>premium_unleaded_(required)</td>\n",
       "      <td>300.0</td>\n",
       "      <td>6.0</td>\n",
       "      <td>manual</td>\n",
       "      <td>rear_wheel_drive</td>\n",
       "      <td>2.0</td>\n",
       "      <td>luxury,high-performance</td>\n",
       "      <td>compact</td>\n",
       "      <td>coupe</td>\n",
       "      <td>28</td>\n",
       "      <td>20</td>\n",
       "      <td>3916</td>\n",
       "      <td>36350</td>\n",
       "    </tr>\n",
       "    <tr>\n",
       "      <th>3</th>\n",
       "      <td>bmw</td>\n",
       "      <td>1_series</td>\n",
       "      <td>2011</td>\n",
       "      <td>premium_unleaded_(required)</td>\n",
       "      <td>230.0</td>\n",
       "      <td>6.0</td>\n",
       "      <td>manual</td>\n",
       "      <td>rear_wheel_drive</td>\n",
       "      <td>2.0</td>\n",
       "      <td>luxury,performance</td>\n",
       "      <td>compact</td>\n",
       "      <td>coupe</td>\n",
       "      <td>28</td>\n",
       "      <td>18</td>\n",
       "      <td>3916</td>\n",
       "      <td>29450</td>\n",
       "    </tr>\n",
       "    <tr>\n",
       "      <th>4</th>\n",
       "      <td>bmw</td>\n",
       "      <td>1_series</td>\n",
       "      <td>2011</td>\n",
       "      <td>premium_unleaded_(required)</td>\n",
       "      <td>230.0</td>\n",
       "      <td>6.0</td>\n",
       "      <td>manual</td>\n",
       "      <td>rear_wheel_drive</td>\n",
       "      <td>2.0</td>\n",
       "      <td>luxury</td>\n",
       "      <td>compact</td>\n",
       "      <td>convertible</td>\n",
       "      <td>28</td>\n",
       "      <td>18</td>\n",
       "      <td>3916</td>\n",
       "      <td>34500</td>\n",
       "    </tr>\n",
       "  </tbody>\n",
       "</table>\n",
       "</div>"
      ],
      "text/plain": [
       "  make       model  year             engine_fuel_type  engine_hp  \\\n",
       "0  bmw  1_series_m  2011  premium_unleaded_(required)      335.0   \n",
       "1  bmw    1_series  2011  premium_unleaded_(required)      300.0   \n",
       "2  bmw    1_series  2011  premium_unleaded_(required)      300.0   \n",
       "3  bmw    1_series  2011  premium_unleaded_(required)      230.0   \n",
       "4  bmw    1_series  2011  premium_unleaded_(required)      230.0   \n",
       "\n",
       "   engine_cylinders transmission_type     driven_wheels  number_of_doors  \\\n",
       "0               6.0            manual  rear_wheel_drive              2.0   \n",
       "1               6.0            manual  rear_wheel_drive              2.0   \n",
       "2               6.0            manual  rear_wheel_drive              2.0   \n",
       "3               6.0            manual  rear_wheel_drive              2.0   \n",
       "4               6.0            manual  rear_wheel_drive              2.0   \n",
       "\n",
       "                         market_category vehicle_size vehicle_style  \\\n",
       "0  factory_tuner,luxury,high-performance      compact         coupe   \n",
       "1                     luxury,performance      compact   convertible   \n",
       "2                luxury,high-performance      compact         coupe   \n",
       "3                     luxury,performance      compact         coupe   \n",
       "4                                 luxury      compact   convertible   \n",
       "\n",
       "   highway_mpg  city_mpg  popularity   msrp  \n",
       "0           26        19        3916  46135  \n",
       "1           28        19        3916  40650  \n",
       "2           28        20        3916  36350  \n",
       "3           28        18        3916  29450  \n",
       "4           28        18        3916  34500  "
      ]
     },
     "execution_count": 8,
     "metadata": {},
     "output_type": "execute_result"
    }
   ],
   "source": [
    "for col in strings:\n",
    "    df[col] = df[col].str.lower().str.replace(\" \", \"_\")\n",
    "df.head()"
   ]
  },
  {
   "cell_type": "markdown",
   "id": "b5db9e42",
   "metadata": {},
   "source": [
    "## 2. Exploratory n analysis"
   ]
  },
  {
   "cell_type": "code",
   "execution_count": 9,
   "id": "f86da315",
   "metadata": {},
   "outputs": [
    {
     "name": "stdout",
     "output_type": "stream",
     "text": [
      "make\n",
      "['bmw' 'audi' 'fiat' 'mercedes-benz' 'chrysler']\n",
      "48\n",
      "\n",
      "model\n",
      "['1_series_m' '1_series' '100' '124_spider' '190-class']\n",
      "914\n",
      "\n",
      "year\n",
      "[2011 2012 2013 1992 1993]\n",
      "28\n",
      "\n",
      "engine_fuel_type\n",
      "['premium_unleaded_(required)' 'regular_unleaded'\n",
      " 'premium_unleaded_(recommended)' 'flex-fuel_(unleaded/e85)' 'diesel']\n",
      "10\n",
      "\n",
      "engine_hp\n",
      "[335. 300. 230. 320. 172.]\n",
      "356\n",
      "\n",
      "engine_cylinders\n",
      "[ 6.  4.  5.  8. 12.]\n",
      "9\n",
      "\n",
      "transmission_type\n",
      "['manual' 'automatic' 'automated_manual' 'direct_drive' 'unknown']\n",
      "5\n",
      "\n",
      "driven_wheels\n",
      "['rear_wheel_drive' 'front_wheel_drive' 'all_wheel_drive'\n",
      " 'four_wheel_drive']\n",
      "4\n",
      "\n",
      "number_of_doors\n",
      "[ 2.  4.  3. nan]\n",
      "3\n",
      "\n",
      "market_category\n",
      "['factory_tuner,luxury,high-performance' 'luxury,performance'\n",
      " 'luxury,high-performance' 'luxury' 'performance']\n",
      "71\n",
      "\n",
      "vehicle_size\n",
      "['compact' 'midsize' 'large']\n",
      "3\n",
      "\n",
      "vehicle_style\n",
      "['coupe' 'convertible' 'sedan' 'wagon' '4dr_hatchback']\n",
      "16\n",
      "\n",
      "highway_mpg\n",
      "[26 28 27 25 24]\n",
      "59\n",
      "\n",
      "city_mpg\n",
      "[19 20 18 17 16]\n",
      "69\n",
      "\n",
      "popularity\n",
      "[3916 3105  819  617 1013]\n",
      "48\n",
      "\n",
      "msrp\n",
      "[46135 40650 36350 29450 34500]\n",
      "6049\n",
      "\n"
     ]
    }
   ],
   "source": [
    "# for overview of the n\n",
    "for col in df.columns:\n",
    "    print(col) # prints columns name\n",
    "    print(df[col].unique()[:5]) # prints 5 unique values in it\n",
    "    print(df[col].nunique()) # prints total number of unique values\n",
    "    print()"
   ]
  },
  {
   "cell_type": "markdown",
   "id": "7ae8c02c",
   "metadata": {},
   "source": [
    "### Distribution of Price"
   ]
  },
  {
   "cell_type": "code",
   "execution_count": 10,
   "id": "3bbc51b9",
   "metadata": {},
   "outputs": [],
   "source": [
    "import matplotlib.pyplot as plt\n",
    "import seaborn as sns\n",
    "\n",
    "%matplotlib inline \n",
    "# to make sure all the plots can be viewed here"
   ]
  },
  {
   "cell_type": "code",
   "execution_count": 11,
   "id": "43ffe785",
   "metadata": {},
   "outputs": [
    {
     "data": {
      "text/plain": [
       "<Axes: xlabel='msrp', ylabel='Count'>"
      ]
     },
     "execution_count": 11,
     "metadata": {},
     "output_type": "execute_result"
    },
    {
     "data": {
      "image/png": "[encoded data removed]",
      "text/plain": [
       "<Figure size 640x480 with 1 Axes>"
      ]
     },
     "metadata": {},
     "output_type": "display_data"
    }
   ],
   "source": [
    "sns.histplot(df.msrp, bins = 50) # histplot for histogram and bins is total number of bars\n",
    "# the chart below shows the price of cars in million (1e6) and how many of them are there, ex almost all of the cars are below 0.25 million"
   ]
  },
  {
   "cell_type": "code",
   "execution_count": 12,
   "id": "3d4a3e2f",
   "metadata": {},
   "outputs": [
    {
     "data": {
      "text/plain": [
       "<Axes: xlabel='msrp', ylabel='Count'>"
      ]
     },
     "execution_count": 12,
     "metadata": {},
     "output_type": "execute_result"
    },
    {
     "data": {
      "image/png": "[encoded data removed]",
      "text/plain": [
       "<Figure size 640x480 with 1 Axes>"
      ]
     },
     "metadata": {},
     "output_type": "display_data"
    }
   ],
   "source": [
    "sns.histplot(df.msrp[df.msrp < 100000], bins = 50)\n",
    "# cars price below 100,000 "
   ]
  },
  {
   "cell_type": "code",
   "execution_count": 13,
   "id": "4543476b",
   "metadata": {},
   "outputs": [
    {
     "data": {
      "text/plain": [
       "<Axes: xlabel='msrp', ylabel='Count'>"
      ]
     },
     "execution_count": 13,
     "metadata": {},
     "output_type": "execute_result"
    },
    {
     "data": {
      "image/png": "[encoded data removed]",
      "text/plain": [
       "<Figure size 640x480 with 1 Axes>"
      ]
     },
     "metadata": {},
     "output_type": "display_data"
    }
   ],
   "source": [
    "# The values are very few after certain price which is called tail- it may confuse our model, to fix that we normalize the prices. To do that we will use log \n",
    "price_log = np.log1p(df.msrp) # log1p to take all the positive values\n",
    "sns.histplot(price_log, bins = 50)"
   ]
  },
  {
   "cell_type": "markdown",
   "id": "97082fe5",
   "metadata": {},
   "source": [
    "### Missing values"
   ]
  },
  {
   "cell_type": "code",
   "execution_count": 14,
   "id": "a266f44d",
   "metadata": {},
   "outputs": [
    {
     "data": {
      "text/plain": [
       "make                    0\n",
       "model                   0\n",
       "year                    0\n",
       "engine_fuel_type        3\n",
       "engine_hp              69\n",
       "engine_cylinders       30\n",
       "transmission_type       0\n",
       "driven_wheels           0\n",
       "number_of_doors         6\n",
       "market_category      3742\n",
       "vehicle_size            0\n",
       "vehicle_style           0\n",
       "highway_mpg             0\n",
       "city_mpg                0\n",
       "popularity              0\n",
       "msrp                    0\n",
       "dtype: int64"
      ]
     },
     "execution_count": 14,
     "metadata": {},
     "output_type": "execute_result"
    }
   ],
   "source": [
    "df.isnull().sum() # sum of all the null values by index"
   ]
  },
  {
   "cell_type": "markdown",
   "id": "abe09eb6",
   "metadata": {},
   "source": [
    "## 3. Setting up the validation framework"
   ]
  },
  {
   "cell_type": "code",
   "execution_count": 15,
   "id": "dfe02b4d",
   "metadata": {},
   "outputs": [
    {
     "data": {
      "text/plain": [
       "(2382, 2382, 7150)"
      ]
     },
     "execution_count": 15,
     "metadata": {},
     "output_type": "execute_result"
    }
   ],
   "source": [
    "# First we split the data into training, validation and testing\n",
    "n = len(df)\n",
    "n_val = int(n * 0.2)\n",
    "n_test = int(n * 0.2)\n",
    "n_train = n - (n_val + n_test)\n",
    "n_val, n_test, n_train\n"
   ]
  },
  {
   "cell_type": "code",
   "execution_count": 16,
   "id": "8145a594",
   "metadata": {},
   "outputs": [],
   "source": [
    "d_train = df.iloc[:n_train]\n",
    "d_val = df.iloc[n_train:n_train+n_val]\n",
    "d_test = df.iloc[n_train+n_val:]"
   ]
  },
  {
   "cell_type": "code",
   "execution_count": 17,
   "id": "52f27826",
   "metadata": {},
   "outputs": [],
   "source": [
    "# but there's a problem, the data is in sequence and we need it to be random. Therefore we have to suffle the data for proper prediction \n",
    "\n",
    "idx = np.arange(n)\n",
    "np.random.seed(2) # to get the same random order as the instructor\n",
    "np.random.shuffle(idx)"
   ]
  },
  {
   "cell_type": "code",
   "execution_count": 18,
   "id": "1a0012c0",
   "metadata": {},
   "outputs": [],
   "source": [
    "d_train = df.iloc[idx[:n_train]]\n",
    "d_val = df.iloc[idx[n_train: n_train+n_val]]\n",
    "d_test = df.iloc[idx[n_train+n_val:]]"
   ]
  },
  {
   "cell_type": "code",
   "execution_count": 19,
   "id": "428690c7",
   "metadata": {},
   "outputs": [],
   "source": [
    "# now we resets the index as it is shuffled \n",
    "d_train = d_train.reset_index(drop=True)\n",
    "d_val = d_val.reset_index(drop=True)\n",
    "d_test = d_test.reset_index(drop=True)"
   ]
  },
  {
   "cell_type": "code",
   "execution_count": 20,
   "id": "afef8545",
   "metadata": {},
   "outputs": [],
   "source": [
    "# now we transform data via log \n",
    "y_train = np.log1p(d_train.msrp.values)\n",
    "y_val = np.log1p(d_val.msrp.values)\n",
    "y_test = np.log1p(d_test.msrp.values)"
   ]
  },
  {
   "cell_type": "code",
   "execution_count": 21,
   "id": "3c1361a7",
   "metadata": {},
   "outputs": [],
   "source": [
    "# finally we delete the msrp columns to prevent data leakage \n",
    "del d_train[\"msrp\"]\n",
    "del d_val[\"msrp\"]\n",
    "del d_test[\"msrp\"]"
   ]
  },
  {
   "cell_type": "markdown",
   "id": "666d8333",
   "metadata": {},
   "source": [
    "## 4. Linear Regression"
   ]
  },
  {
   "cell_type": "code",
   "execution_count": 22,
   "id": "aa99a0b7",
   "metadata": {},
   "outputs": [
    {
     "data": {
      "text/plain": [
       "10.212000000000002"
      ]
     },
     "execution_count": 22,
     "metadata": {},
     "output_type": "execute_result"
    }
   ],
   "source": [
    "# ex - a simple linear regression function\n",
    "fe = [435, 11, 16] # feature vector\n",
    "w = [0.01, 0.03, 0.002] # weights of features\n",
    "w0 = 5.5 # base value\n",
    "\n",
    "def linear_regression(fe):\n",
    "    n = len(fe) # to loop through the features\n",
    "    pred = w0 # out prediction vairable\n",
    "\n",
    "    for j in range(n):\n",
    "        pred += w[j] * fe[j] # predication = base value + (features * their weights) for all the features\n",
    "\n",
    "    return pred\n",
    "\n",
    "linear_regression(fe)"
   ]
  },
  {
   "cell_type": "code",
   "execution_count": 23,
   "id": "a5c3cab2",
   "metadata": {},
   "outputs": [
    {
     "data": {
      "text/plain": [
       "np.float64(27226.969108004363)"
      ]
     },
     "execution_count": 23,
     "metadata": {},
     "output_type": "execute_result"
    }
   ],
   "source": [
    "np.expm1(linear_regression(fe)) # it undo's the log fn and in this case gives us the price of the car"
   ]
  },
  {
   "cell_type": "markdown",
   "id": "6adf6992",
   "metadata": {},
   "source": [
    "## 5. Linear Regression: Vector form"
   ]
  },
  {
   "cell_type": "code",
   "execution_count": 24,
   "id": "f8b1bf0b",
   "metadata": {},
   "outputs": [
    {
     "data": {
      "text/plain": [
       "np.float64(10.212)"
      ]
     },
     "execution_count": 24,
     "metadata": {},
     "output_type": "execute_result"
    }
   ],
   "source": [
    "# using dot fn \n",
    "def linear_regression(fe):\n",
    "    return w0 + np.array(fe).dot(np.array(w))\n",
    "\n",
    "linear_regression(fe)"
   ]
  },
  {
   "cell_type": "code",
   "execution_count": 25,
   "id": "27b215ab",
   "metadata": {},
   "outputs": [
    {
     "data": {
      "text/plain": [
       "np.float64(10.212000000000002)"
      ]
     },
     "execution_count": 25,
     "metadata": {},
     "output_type": "execute_result"
    }
   ],
   "source": [
    "# combining the base value \n",
    "w_new = [w0]+ w\n",
    "\n",
    "def linear_regression(fe):\n",
    "    fe = [1] + fe\n",
    "    return np.array(fe).dot(np.array(w_new)) \n",
    "\n",
    "linear_regression(fe)"
   ]
  },
  {
   "cell_type": "code",
   "execution_count": 26,
   "id": "f982f988",
   "metadata": {},
   "outputs": [
    {
     "data": {
      "text/plain": [
       "array([10.47 , 11.632, 10.532])"
      ]
     },
     "execution_count": 26,
     "metadata": {},
     "output_type": "execute_result"
    }
   ],
   "source": [
    "# in short linear regression is matrix multiplication, here's the example\n",
    "w_new = [w0]+ w\n",
    "\n",
    "x1 = [1, 148, 24, 1385]\n",
    "x2 = [1, 132, 25, 2031]\n",
    "x10 = [1, 453, 11, 86]\n",
    "\n",
    "X = [x1, x2, x10]\n",
    "X = np.array(X)\n",
    "\n",
    "def linear_regression(X):\n",
    "    return X.dot(w_new)\n",
    "\n",
    "linear_regression(X)"
   ]
  },
  {
   "cell_type": "markdown",
   "id": "a19a3c44",
   "metadata": {},
   "source": [
    "## 6 Training Linear Regression: Normal Equation"
   ]
  },
  {
   "cell_type": "code",
   "execution_count": 27,
   "id": "11c515ef",
   "metadata": {},
   "outputs": [
    {
     "data": {
      "text/plain": [
       "array([[1.000e+00, 1.480e+02, 2.400e+01, 1.385e+03],\n",
       "       [1.000e+00, 1.320e+02, 2.500e+01, 2.031e+03],\n",
       "       [1.000e+00, 4.530e+02, 1.100e+01, 8.600e+01],\n",
       "       [1.000e+00, 1.580e+02, 2.400e+01, 1.850e+02],\n",
       "       [1.000e+00, 1.720e+02, 2.500e+01, 2.010e+02],\n",
       "       [1.000e+00, 4.130e+02, 1.100e+01, 8.300e+01],\n",
       "       [1.000e+00, 3.800e+01, 5.400e+01, 1.850e+02],\n",
       "       [1.000e+00, 1.420e+02, 2.500e+01, 4.310e+02],\n",
       "       [1.000e+00, 4.530e+02, 3.100e+01, 8.600e+01]])"
      ]
     },
     "execution_count": 27,
     "metadata": {},
     "output_type": "execute_result"
    }
   ],
   "source": [
    "# simple implementation of normal eqn for linear regression\n",
    "X =[\n",
    "    [148, 24, 1385],\n",
    "    [132, 25, 2031],\n",
    "    [453, 11, 86],\n",
    "    [158, 24, 185],\n",
    "    [172, 25, 201],\n",
    "    [413, 11, 83],\n",
    "    [38, 54, 185],\n",
    "    [142, 25, 431],\n",
    "    [453, 31, 86],  \n",
    "]\n",
    "\n",
    "X = np.array(X)\n",
    "ones = np.ones(X.shape[0]) # for bias term\n",
    "X = np.column_stack([ones, X]) # adding it to X\n",
    "X"
   ]
  },
  {
   "cell_type": "code",
   "execution_count": 28,
   "id": "6b78f9c6",
   "metadata": {},
   "outputs": [],
   "source": [
    "# We will implement this formula - w = (X^T. X)^-1.X^T.y - which is a normal eqn for linear regression\n",
    "xtx = X.T.dot(X)\n",
    "xtx_inv = np.linalg.inv(xtx)\n",
    "y = [100, 200, 150, 250, 100, 200, 150, 250, 120]\n",
    "\n",
    "w_f = xtx_inv.dot(X.T).dot(y)\n",
    "\n",
    "w0 = w_f[0]\n",
    "w = w_f[1:]\n"
   ]
  },
  {
   "cell_type": "code",
   "execution_count": 29,
   "id": "9cbf02c6",
   "metadata": {},
   "outputs": [
    {
     "data": {
      "text/plain": [
       "(np.float64(300.0925292276671), array([-0.22783969, -2.57690874, -0.02303228]))"
      ]
     },
     "execution_count": 29,
     "metadata": {},
     "output_type": "execute_result"
    }
   ],
   "source": [
    "w0, w # w0 is bias term (base value) and w is weights of features which are in nagative in this case which means they decrace the value"
   ]
  },
  {
   "cell_type": "code",
   "execution_count": 30,
   "id": "ffcc6bfe",
   "metadata": {},
   "outputs": [],
   "source": [
    "def train_linear_regression(X, y):\n",
    "    ones = np.ones(X.shape[0]) \n",
    "    X = np.column_stack([ones, X])\n",
    "\n",
    "    xtx = X.T.dot(X)\n",
    "    xtx_inv = np.linalg.inv(xtx) \n",
    "\n",
    "    w_f = xtx_inv.dot(X.T).dot(y)\n",
    "\n",
    "    w0 = w_f[0]\n",
    "    w = w_f[1:]\n",
    "\n",
    "    return w0, w\n",
    "\n"
   ]
  },
  {
   "cell_type": "code",
   "execution_count": 31,
   "id": "3730b41a",
   "metadata": {},
   "outputs": [
    {
     "data": {
      "text/plain": [
       "(np.float64(1.1803887523479433e+19),\n",
       " array([-1.18038875e+19,  2.65523467e-01,  2.45817993e-14, -6.94661137e-01]))"
      ]
     },
     "execution_count": 31,
     "metadata": {},
     "output_type": "execute_result"
    }
   ],
   "source": [
    "train_linear_regression(X, y)"
   ]
  },
  {
   "cell_type": "markdown",
   "id": "9429a048",
   "metadata": {},
   "source": [
    "## 7.  Baseline Model for Car Price Prediction "
   ]
  },
  {
   "cell_type": "code",
   "execution_count": 32,
   "id": "c108fbd4",
   "metadata": {},
   "outputs": [
    {
     "data": {
      "text/plain": [
       "Index(['make', 'model', 'year', 'engine_fuel_type', 'engine_hp',\n",
       "       'engine_cylinders', 'transmission_type', 'driven_wheels',\n",
       "       'number_of_doors', 'market_category', 'vehicle_size', 'vehicle_style',\n",
       "       'highway_mpg', 'city_mpg', 'popularity'],\n",
       "      dtype='object')"
      ]
     },
     "execution_count": 32,
     "metadata": {},
     "output_type": "execute_result"
    }
   ],
   "source": [
    "d_train.columns"
   ]
  },
  {
   "cell_type": "code",
   "execution_count": 33,
   "id": "ee128260",
   "metadata": {},
   "outputs": [],
   "source": [
    "base = ['engine_hp', 'engine_cylinders', 'highway_mpg', 'city_mpg', 'popularity'] # extracting all the features we need \n",
    "X_train = d_train[base].fillna(0).values # filling all the null values with 0's "
   ]
  },
  {
   "cell_type": "code",
   "execution_count": 34,
   "id": "97d82204",
   "metadata": {},
   "outputs": [
    {
     "data": {
      "text/plain": [
       "array([ 9.54792783,  9.38733977,  9.67197758, ..., 10.30423015,\n",
       "       11.9778914 ,  9.99863111], shape=(7150,))"
      ]
     },
     "execution_count": 34,
     "metadata": {},
     "output_type": "execute_result"
    }
   ],
   "source": [
    "w0, w = train_linear_regression(X_train, y_train)\n",
    "y_pred = w0 + X_train.dot(w) # base value + features * weights \n",
    "y_pred"
   ]
  },
  {
   "cell_type": "code",
   "execution_count": 35,
   "id": "ea480cd5",
   "metadata": {},
   "outputs": [
    {
     "data": {
      "text/plain": [
       "<Axes: ylabel='Count'>"
      ]
     },
     "execution_count": 68,
     "metadata": {},
     "output_type": "execute_result"
    },
    {
     "data": {
      "image/png": "[encoded data removed]",
      "text/plain": [
       "<Figure size 640x480 with 1 Axes>"
      ]
     },
     "metadata": {},
     "output_type": "display_data"
    }
   ],
   "source": [
    "# visualizing the predictions\n",
    "sns.histplot(y_pred, color=\"red\", alpha=0.6, bins=50)\n",
    "sns.histplot(y_train, color=\"blue\", alpha=0.6, bins=50)\n",
    "\n",
    "# red is prediction and blue is target"
   ]
  },
  {
   "cell_type": "markdown",
   "id": "29d9d5c5",
   "metadata": {},
   "source": [
    "## 8. RMSE"
   ]
  },
  {
   "cell_type": "code",
   "execution_count": 36,
   "id": "1659d13b",
   "metadata": {},
   "outputs": [],
   "source": [
    "def rmse(y, y_pred):\n",
    "    e = y-y_pred\n",
    "    se = e ** 2\n",
    "    mse = se.mean()\n",
    "    rmse = np.sqrt(mse)\n",
    "    return rmse\n"
   ]
  },
  {
   "cell_type": "code",
   "execution_count": 37,
   "id": "84695935",
   "metadata": {},
   "outputs": [
    {
     "data": {
      "text/plain": [
       "np.float64(0.7554192603920132)"
      ]
     },
     "execution_count": 37,
     "metadata": {},
     "output_type": "execute_result"
    }
   ],
   "source": [
    "rmse(y_train, y_pred)"
   ]
  },
  {
   "cell_type": "markdown",
   "id": "8f248d38",
   "metadata": {},
   "source": [
    "## 9. Validation"
   ]
  },
  {
   "cell_type": "code",
   "execution_count": 38,
   "id": "a12c6ce2",
   "metadata": {},
   "outputs": [],
   "source": [
    "# instead of preparing the data again and again we should create a fn \n",
    "def prepare_df(df):\n",
    "    df_num = df[base]\n",
    "    X = df_num.fillna(0).values\n",
    "    return X"
   ]
  },
  {
   "cell_type": "code",
   "execution_count": 39,
   "id": "49a7594b",
   "metadata": {},
   "outputs": [
    {
     "data": {
      "text/plain": [
       "np.float64(0.7616530991301562)"
      ]
     },
     "execution_count": 39,
     "metadata": {},
     "output_type": "execute_result"
    }
   ],
   "source": [
    "# Training part \n",
    "X_train = prepare_df(d_train)\n",
    "w0, w = train_linear_regression(X_train, y_train)\n",
    "\n",
    "# prediction and validation\n",
    "X_val = prepare_df(d_val)\n",
    "y_pred = w0 + X_val.dot(w)\n",
    "\n",
    "# RMSE\n",
    "rmse(y_val, y_pred)"
   ]
  },
  {
   "cell_type": "markdown",
   "id": "c778128a",
   "metadata": {},
   "source": [
    "## 10 Feature Engineering"
   ]
  },
  {
   "cell_type": "code",
   "execution_count": 64,
   "id": "810df450",
   "metadata": {},
   "outputs": [],
   "source": [
    "# Adding the age feature in our model \n",
    "def prepare_df(df):\n",
    "    df = df.copy()\n",
    "\n",
    "    df['age'] = df.year.max() - df.year\n",
    "    feature = base + ['age']\n",
    "\n",
    "    df_num = df[feature]\n",
    "    X = df_num.fillna(0).values\n",
    "    return X"
   ]
  },
  {
   "cell_type": "code",
   "execution_count": 70,
   "id": "68904526",
   "metadata": {},
   "outputs": [
    {
     "data": {
      "text/plain": [
       "np.float64(0.5172055461058324)"
      ]
     },
     "execution_count": 70,
     "metadata": {},
     "output_type": "execute_result"
    }
   ],
   "source": [
    "X_train = prepare_df(d_train)\n",
    "w0, w = train_linear_regression(X_train, y_train)\n",
    "\n",
    "# prediction and validation\n",
    "X_val = prepare_df(d_val)\n",
    "y_pred = w0 + X_val.dot(w)\n",
    "\n",
    "# RMSE\n",
    "rmse(y_val, y_pred)"
   ]
  },
  {
   "cell_type": "code",
   "execution_count": null,
   "id": "56d2f5e3",
   "metadata": {},
   "outputs": [
    {
     "data": {
      "text/plain": [
       "<Axes: ylabel='Count'>"
      ]
     },
     "execution_count": 73,
     "metadata": {},
     "output_type": "execute_result"
    },
    {
     "data": {
      "image/png": "[encoded data removed]",
      "text/plain": [
       "<Figure size 640x480 with 1 Axes>"
      ]
     },
     "metadata": {},
     "output_type": "display_data"
    }
   ],
   "source": [
    "sns.histplot(y_pred, color=\"red\", alpha=0.6, bins=50)\n",
    "sns.histplot(y_val, color=\"blue\", alpha=0.6, bins=50)"
   ]
  },
  {
   "cell_type": "markdown",
   "id": "da7da57e",
   "metadata": {},
   "source": [
    "## 11 Categorical Variables"
   ]
  },
  {
   "cell_type": "code",
   "execution_count": 74,
   "id": "fa6f91da",
   "metadata": {},
   "outputs": [],
   "source": [
    "# adding categorical vairbale (objects data types) to our data training\n",
    "def prepare_df(df):\n",
    "    df = df.copy()\n",
    "    feature = base.copy()\n",
    "\n",
    "    df['age'] = df.year.max() - df.year\n",
    "    feature.append('age')\n",
    "    \n",
    "    for v in [2, 3, 4]: # adding number of doors \n",
    "        df['num_doors_%s' % v] = (df.number_of_doors == v).astype('int')\n",
    "        feature.append('num_doors_%s' % v)\n",
    "\n",
    "    df_num = df[feature]\n",
    "    X = df_num.fillna(0).values\n",
    "    return X"
   ]
  },
  {
   "cell_type": "code",
   "execution_count": 75,
   "id": "fcc75769",
   "metadata": {},
   "outputs": [
    {
     "data": {
      "text/plain": [
       "np.float64(0.5157995641502352)"
      ]
     },
     "execution_count": 75,
     "metadata": {},
     "output_type": "execute_result"
    }
   ],
   "source": [
    "X_train = prepare_df(d_train)\n",
    "w0, w = train_linear_regression(X_train, y_train)\n",
    "\n",
    "# prediction and validation\n",
    "X_val = prepare_df(d_val)\n",
    "y_pred = w0 + X_val.dot(w)\n",
    "\n",
    "# RMSE\n",
    "rmse(y_val, y_pred)"
   ]
  },
  {
   "cell_type": "code",
   "execution_count": 83,
   "id": "6a950008",
   "metadata": {},
   "outputs": [],
   "source": [
    "# adding just number of doors didn't improve much of our model\n",
    "# now we add the variable of makes (company name)\n",
    "makes = list(df.make.value_counts().head().index)\n",
    "\n",
    "def prepare_df(df):\n",
    "    df = df.copy()\n",
    "    feature = base.copy()\n",
    "\n",
    "    df['age'] = df.year.max() - df.year\n",
    "    feature.append('age')\n",
    "    \n",
    "    for v in [2, 3, 4]:\n",
    "        df['num_doors_%s' % v] = (df.number_of_doors == v).astype('int')\n",
    "        feature.append('num_doors_%s' % v)\n",
    "\n",
    "    for v in makes:\n",
    "        df['make_%s' % v] = (df.make == v).astype('int')\n",
    "        feature.append('make_%s' % v)\n",
    "\n",
    "    df_num = df[feature]\n",
    "    X = df_num.fillna(0).values\n",
    "    return X"
   ]
  },
  {
   "cell_type": "code",
   "execution_count": 84,
   "id": "dc326fa3",
   "metadata": {},
   "outputs": [
    {
     "data": {
      "text/plain": [
       "np.float64(0.5076038849557032)"
      ]
     },
     "execution_count": 84,
     "metadata": {},
     "output_type": "execute_result"
    }
   ],
   "source": [
    "X_train = prepare_df(d_train)\n",
    "w0, w = train_linear_regression(X_train, y_train)\n",
    "\n",
    "# prediction and validation\n",
    "X_val = prepare_df(d_val)\n",
    "y_pred = w0 + X_val.dot(w)\n",
    "\n",
    "# RMSE\n",
    "rmse(y_val, y_pred)"
   ]
  },
  {
   "cell_type": "code",
   "execution_count": 98,
   "id": "67a2b216",
   "metadata": {},
   "outputs": [],
   "source": [
    "# now we will add multiple variables all together\n",
    "catergorical_variable = [\n",
    "    'make', 'engine_fuel_type', 'transmission_type', 'driven_wheels', 'market_category', 'vehicle_size', 'vehicle_style',\n",
    "]\n",
    "\n",
    "categories = {}\n",
    "for c in catergorical_variable:\n",
    "    categories[c] = list(df[c].value_counts().head().index)"
   ]
  },
  {
   "cell_type": "code",
   "execution_count": 99,
   "id": "7715c7e1",
   "metadata": {},
   "outputs": [],
   "source": [
    "def prepare_df(df):\n",
    "    df = df.copy()\n",
    "    feature = base.copy()\n",
    "\n",
    "    df['age'] = df.year.max() - df.year\n",
    "    feature.append('age')\n",
    "    \n",
    "    for v in [2, 3, 4]:\n",
    "        df['num_doors_%s' % v] = (df.number_of_doors == v).astype('int')\n",
    "        feature.append('num_doors_%s' % v)\n",
    "\n",
    "    for c, values in categories.items():\n",
    "        for v in values:\n",
    "            df['%s_%s' % (c, v)] = (df[c] == v).astype('int')\n",
    "            feature.append('%s_%s' % (c, v))\n",
    "\n",
    "    df_num = df[feature]\n",
    "    X = df_num.fillna(0).values\n",
    "    return X"
   ]
  },
  {
   "cell_type": "code",
   "execution_count": 100,
   "id": "8423f4cf",
   "metadata": {},
   "outputs": [
    {
     "data": {
      "text/plain": [
       "np.float64(65.14381656890619)"
      ]
     },
     "execution_count": 100,
     "metadata": {},
     "output_type": "execute_result"
    }
   ],
   "source": [
    "X_train = prepare_df(d_train)\n",
    "w0, w = train_linear_regression(X_train, y_train)\n",
    "\n",
    "# prediction and validation\n",
    "X_val = prepare_df(d_val)\n",
    "y_pred = w0 + X_val.dot(w)\n",
    "\n",
    "# RMSE\n",
    "rmse(y_val, y_pred)"
   ]
  },
  {
   "cell_type": "markdown",
   "id": "189b7690",
   "metadata": {},
   "source": [
    "## 12. Regularization"
   ]
  },
  {
   "cell_type": "code",
   "execution_count": 119,
   "id": "2f348ad8",
   "metadata": {},
   "outputs": [],
   "source": [
    "# using linear combination and and controlling the diagonal of the matrix we can resulate the data\n",
    "def train_linear_regression_rag(X, y, r=0.001):\n",
    "    ones = np.ones(X.shape[0]) \n",
    "    X = np.column_stack([ones, X])\n",
    "\n",
    "    xtx = X.T.dot(X)\n",
    "    xtx = xtx + r * np.eye(xtx.shape[0]) # adding r to diagonal of the matrix \n",
    "\n",
    "    xtx_inv = np.linalg.inv(xtx) \n",
    "    w_f = xtx_inv.dot(X.T).dot(y)\n",
    "\n",
    "    w0 = w_f[0]\n",
    "    w = w_f[1:]\n",
    "\n",
    "    return w0, w\n",
    "# it significally make out model better"
   ]
  },
  {
   "cell_type": "code",
   "execution_count": null,
   "id": "4dde128d",
   "metadata": {},
   "outputs": [
    {
     "data": {
      "text/plain": [
       "np.float64(0.4565219901260097)"
      ]
     },
     "execution_count": 118,
     "metadata": {},
     "output_type": "execute_result"
    }
   ],
   "source": [
    "X_train = prepare_df(d_train)\n",
    "w0, w = train_linear_regression_rag(X_train, y_train, r=0.01)\n",
    "\n",
    "# prediction and validation\n",
    "X_val = prepare_df(d_val)\n",
    "y_pred = w0 + X_val.dot(w)\n",
    "\n",
    "# RMSE\n",
    "rmse(y_val, y_pred)    \n",
    "\n"
   ]
  },
  {
   "cell_type": "markdown",
   "id": "f5ea1d32",
   "metadata": {},
   "source": [
    "## 13 Tuning the Model"
   ]
  },
  {
   "cell_type": "code",
   "execution_count": null,
   "id": "cdd1547a",
   "metadata": {},
   "outputs": [
    {
     "name": "stdout",
     "output_type": "stream",
     "text": [
      "0 3175961329593529.0 65.14381656890619\n",
      "0.01 6.276607181663215 0.4565219901260097\n",
      "0.001 6.286048915545171 0.45651750869481067\n",
      "0.0001 6.28237094755213 0.45651706120259566\n",
      "1 5.634896668028935 0.457220431799345\n",
      "10 4.283980108983627 0.47014569320999994\n",
      "100 2.4990470830039357 0.5786709462475825\n"
     ]
    }
   ],
   "source": [
    "# finding the best regularization hyperparameter\n",
    "for i in [0, 0.01, 0.001, 0.0001, 1, 10, 100]: # trying different values\n",
    "    X_train = prepare_df(d_train)\n",
    "    w0, w = train_linear_regression(X_train, y_train, r=i)\n",
    "\n",
    "    X_val = prepare_df(d_val)\n",
    "    y_pred = w0 + X_val.dot(w)\n",
    "\n",
    "    score = rmse(y_val, y_pred)\n",
    "    print(i, w0, score)"
   ]
  },
  {
   "cell_type": "code",
   "execution_count": 122,
   "id": "286a2a37",
   "metadata": {},
   "outputs": [
    {
     "data": {
      "text/plain": [
       "np.float64(0.45651750869481067)"
      ]
     },
     "execution_count": 122,
     "metadata": {},
     "output_type": "execute_result"
    }
   ],
   "source": [
    "r = 0.001\n",
    "X_train = prepare_df(d_train)\n",
    "w0, w = train_linear_regression(X_train, y_train, r=r)\n",
    "X_val = prepare_df(d_val)\n",
    "y_pred = w0 + X_val.dot(w)\n",
    "score = rmse(y_val, y_pred)\n",
    "score"
   ]
  },
  {
   "cell_type": "markdown",
   "id": "245d2734",
   "metadata": {},
   "source": [
    "## 14. Using the model"
   ]
  },
  {
   "cell_type": "code",
   "execution_count": 125,
   "id": "154b6703",
   "metadata": {},
   "outputs": [
    {
     "data": {
      "text/plain": [
       "array([[148.,   4.,  33., ...,   1.,   0.,   0.],\n",
       "       [132.,   4.,  32., ...,   0.,   0.,   1.],\n",
       "       [148.,   4.,  37., ...,   0.,   0.,   1.],\n",
       "       ...,\n",
       "       [332.,   8.,  23., ...,   0.,   0.,   0.],\n",
       "       [148.,   4.,  34., ...,   0.,   0.,   0.],\n",
       "       [290.,   6.,  25., ...,   0.,   0.,   0.]], shape=(9532, 41))"
      ]
     },
     "execution_count": 125,
     "metadata": {},
     "output_type": "execute_result"
    }
   ],
   "source": [
    "# now we combine the train and validation into one data and train with it and then check the test data with that model \n",
    "d_full_train = pd.concat([d_train, d_val])\n",
    "d_full_train = d_full_train.reset_index(drop=True)\n",
    "x_full_train = prepare_df(d_full_train)\n",
    "x_full_train"
   ]
  },
  {
   "cell_type": "code",
   "execution_count": 126,
   "id": "0e729d81",
   "metadata": {},
   "outputs": [],
   "source": [
    "y_full_train = np.concatenate([y_train, y_val])\n",
    "w0, w = train_linear_regression(X_train, y_train, r=r)"
   ]
  },
  {
   "cell_type": "code",
   "execution_count": 127,
   "id": "b8383923",
   "metadata": {},
   "outputs": [
    {
     "data": {
      "text/plain": [
       "np.float64(0.45222847255144866)"
      ]
     },
     "execution_count": 127,
     "metadata": {},
     "output_type": "execute_result"
    }
   ],
   "source": [
    "X_test = prepare_df(d_test)\n",
    "y_pred = w0 + X_test.dot(w)\n",
    "score = rmse(y_test, y_pred)\n",
    "score"
   ]
  },
  {
   "cell_type": "code",
   "execution_count": 135,
   "id": "74c5365d",
   "metadata": {},
   "outputs": [
    {
     "data": {
      "text/plain": [
       "np.float64(31202.763745628537)"
      ]
     },
     "execution_count": 135,
     "metadata": {},
     "output_type": "execute_result"
    }
   ],
   "source": [
    "# now with the model we will predict the price of a random car\n",
    "car = d_test.iloc[32].to_dict() # selecting a random car from the test dataset\n",
    "d_small = pd.DataFrame([car]) # converting it into a dataframe\n",
    "x_small = prepare_df(d_small) # preparing the data\n",
    "y_pred = w0 + x_small.dot(w) # normal eqn\n",
    "y_pred = y_pred[0] # selecting the first value\n",
    "np.expm1(y_pred) # undoing the log "
   ]
  },
  {
   "cell_type": "code",
   "execution_count": null,
   "id": "b0ad2f61",
   "metadata": {},
   "outputs": [
    {
     "data": {
      "text/plain": [
       "np.float64(26195.000000000007)"
      ]
     },
     "execution_count": 136,
     "metadata": {},
     "output_type": "execute_result"
    }
   ],
   "source": [
    "np.expm1(y_test[32]) # the original price "
   ]
  },
  {
   "cell_type": "markdown",
   "id": "3512a2c6",
   "metadata": {},
   "source": []
  },
  {
   "cell_type": "code",
   "execution_count": null,
   "id": "95927880",
   "metadata": {},
   "outputs": [],
   "source": []
  }
 ],
 "metadata": {
  "kernelspec": {
   "display_name": "ml-zoomcamp",
   "language": "python",
   "name": "python3"
  },
  "language_info": {
   "codemirror_mode": {
    "name": "ipython",
    "version": 3
   },
   "file_extension": ".py",
   "mimetype": "text/x-python",
   "name": "python",
   "nbconvert_exporter": "python",
   "pygments_lexer": "ipython3",
   "version": "3.13.7"
  }
 },
 "nbformat": 4,
 "nbformat_minor": 5
}
